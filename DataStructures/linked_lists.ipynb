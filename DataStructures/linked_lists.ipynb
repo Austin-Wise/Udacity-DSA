{
 "cells": [
  {
   "cell_type": "markdown",
   "source": [
    "# The Node"
   ],
   "metadata": {
    "collapsed": false
   },
   "id": "5b121edd088e8631"
  },
  {
   "cell_type": "code",
   "execution_count": 8,
   "id": "initial_id",
   "metadata": {
    "collapsed": true,
    "ExecuteTime": {
     "end_time": "2023-10-11T04:48:30.108851Z",
     "start_time": "2023-10-11T04:48:30.098330800Z"
    }
   },
   "outputs": [
    {
     "name": "stdout",
     "output_type": "stream",
     "text": [
      "9\n",
      "1\n",
      "2\n"
     ]
    }
   ],
   "source": [
    "class Node:\n",
    "    def __init__(self, value):\n",
    "        self.value = value\n",
    "        self.next = None\n",
    "        \n",
    "        \n",
    "head = Node(9)\n",
    "head.next = Node(1)\n",
    "\n",
    "print(head.value)\n",
    "print(head.next.value)\n",
    "\n",
    "\n",
    "head.next.next = Node(2)\n",
    "print(head.next.next.value)"
   ]
  },
  {
   "cell_type": "markdown",
   "source": [
    "# TRAVERSING A LIST"
   ],
   "metadata": {
    "collapsed": false
   },
   "id": "639d18b67414a748"
  },
  {
   "cell_type": "code",
   "execution_count": 11,
   "outputs": [],
   "source": [
    "def print_linked_list(head):\n",
    "    current_node = head\n",
    "    while current_node is not None:\n",
    "        print(current_node.value)\n",
    "        current_node = current_node.next"
   ],
   "metadata": {
    "collapsed": false,
    "ExecuteTime": {
     "end_time": "2023-10-11T04:54:59.360634200Z",
     "start_time": "2023-10-11T04:54:59.354107300Z"
    }
   },
   "id": "9d53dd3701624ddd"
  },
  {
   "cell_type": "markdown",
   "source": [
    "# Creating a linked list from a Linked List"
   ],
   "metadata": {
    "collapsed": false
   },
   "id": "d130608792b06403"
  },
  {
   "cell_type": "code",
   "execution_count": 12,
   "outputs": [],
   "source": [
    "def create_linked_list(input_list):\n",
    "    head = None\n",
    "    for i in input_list:\n",
    "        if head is None:\n",
    "            head = Node(i)\n",
    "        else:\n",
    "            # Move to the tail of the linked list\n",
    "            curr_node = head\n",
    "            while curr_node.next:\n",
    "                curr_node = curr_node.next\n",
    "            curr_node.next = Node(i)\n",
    "    return head"
   ],
   "metadata": {
    "collapsed": false,
    "ExecuteTime": {
     "end_time": "2023-10-11T05:43:41.983391300Z",
     "start_time": "2023-10-11T05:43:41.974412100Z"
    }
   },
   "id": "87d86a80d4e8b14"
  },
  {
   "cell_type": "code",
   "execution_count": 13,
   "outputs": [
    {
     "name": "stdout",
     "output_type": "stream",
     "text": [
      "1\n",
      "2\n",
      "24\n",
      "26\n",
      "28\n"
     ]
    }
   ],
   "source": [
    "l_l = create_linked_list([1,2,24,26,28])\n",
    "print_linked_list(l_l)"
   ],
   "metadata": {
    "collapsed": false,
    "ExecuteTime": {
     "end_time": "2023-10-11T05:44:55.408322600Z",
     "start_time": "2023-10-11T05:44:55.369060200Z"
    }
   },
   "id": "c58b97d9c9243d46"
  },
  {
   "cell_type": "markdown",
   "source": [
    "# Improving the create function"
   ],
   "metadata": {
    "collapsed": false
   },
   "id": "703efa7077fdf7cf"
  },
  {
   "cell_type": "code",
   "execution_count": null,
   "outputs": [],
   "source": [
    "def create_linked_list_improved(input_list):\n",
    "    head = None\n",
    "    tail = None\n",
    "    \n",
    "    for i in input_list:\n",
    "        if head is None:\n",
    "            head = Node(i)\n",
    "            tail = head\n",
    "        else:\n",
    "            tail.next = Node(i)\n",
    "            tail = tail.next # Update the tail.\n",
    "            \n",
    "    return head"
   ],
   "metadata": {
    "collapsed": false
   },
   "id": "3119bc9d49fcd80d"
  }
 ],
 "metadata": {
  "kernelspec": {
   "display_name": "Python 3",
   "language": "python",
   "name": "python3"
  },
  "language_info": {
   "codemirror_mode": {
    "name": "ipython",
    "version": 2
   },
   "file_extension": ".py",
   "mimetype": "text/x-python",
   "name": "python",
   "nbconvert_exporter": "python",
   "pygments_lexer": "ipython2",
   "version": "2.7.6"
  }
 },
 "nbformat": 4,
 "nbformat_minor": 5
}
